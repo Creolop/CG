{
 "cells": [
  {
   "cell_type": "code",
   "execution_count": 1,
   "metadata": {
    "collapsed": true
   },
   "outputs": [],
   "source": [
    "import sys\n",
    "import math\n",
    "\n",
    "def field(currentposition,obstacle):\n",
    "    d = (currentposition - obstacle[0]).mag\n",
    "    if(d > obstacle[1]):\n",
    "        return 0\n",
    "    elif(d <= obstacle[1]):\n",
    "        fieldval = obstacle[1] * math.log(obstacle[1]/d,math.e)\n",
    "        return fieldval\n",
    "\n",
    "def minimum_cost(directionSet,obstacleSet,velocity,dt,currentposition,goal):\n",
    "    direction = directionSet[0]\n",
    "    nextp = vector(0,0,0)\n",
    "    cost = sys.maxsize \n",
    "    for d in directionSet:\n",
    "        nextposition = currentposition + vector(velocity.mag*d.x,velocity.mag*d.y,velocity.mag*d.z)*dt\n",
    "        curcost = (nextposition - goal).mag\n",
    "        for o in obstacleSet:\n",
    "            curcost = curcost + field(nextposition,o)\n",
    "#             if(field(nextposition,o) != 0):\n",
    "#                 print(d)\n",
    "#                 print(curcost)\n",
    "        if(curcost < cost):\n",
    "            cost = curcost\n",
    "            nextp = nextposition\n",
    "    return nextp"
   ]
  },
  {
   "cell_type": "code",
   "execution_count": null,
   "metadata": {
    "collapsed": false
   },
   "outputs": [
    {
     "data": {
      "application/javascript": [
       "require.undef(\"nbextensions/vpython_libraries/jquery-ui.custom.min\");"
      ],
      "text/plain": [
       "<IPython.core.display.Javascript object>"
      ]
     },
     "metadata": {},
     "output_type": "display_data"
    },
    {
     "data": {
      "application/javascript": [
       "require.undef(\"nbextensions/vpython_libraries/glow.2.1.min\");"
      ],
      "text/plain": [
       "<IPython.core.display.Javascript object>"
      ]
     },
     "metadata": {},
     "output_type": "display_data"
    },
    {
     "data": {
      "application/javascript": [
       "require.undef(\"nbextensions/vpython_libraries/glowcomm\");"
      ],
      "text/plain": [
       "<IPython.core.display.Javascript object>"
      ]
     },
     "metadata": {},
     "output_type": "display_data"
    },
    {
     "data": {
      "application/javascript": [
       "require([\"nbextensions/vpython_libraries/jquery-ui.custom.min\"], function(){console.log(\"JQUERY LOADED\");})"
      ],
      "text/plain": [
       "<IPython.core.display.Javascript object>"
      ]
     },
     "metadata": {},
     "output_type": "display_data"
    },
    {
     "data": {
      "application/javascript": [
       "require([\"nbextensions/vpython_libraries/glow.2.1.min\"], function(){console.log(\"GLOW LOADED\");})"
      ],
      "text/plain": [
       "<IPython.core.display.Javascript object>"
      ]
     },
     "metadata": {},
     "output_type": "display_data"
    },
    {
     "data": {
      "application/javascript": [
       "require([\"nbextensions/vpython_libraries/glowcomm\"], function(){console.log(\"GLOWCOMM LOADED\");})"
      ],
      "text/plain": [
       "<IPython.core.display.Javascript object>"
      ]
     },
     "metadata": {},
     "output_type": "display_data"
    },
    {
     "data": {
      "text/html": [
       "<div id=\"glowscript\" class=\"glowscript\"></div>"
      ],
      "text/plain": [
       "<IPython.core.display.HTML object>"
      ]
     },
     "metadata": {},
     "output_type": "display_data"
    },
    {
     "data": {
      "application/javascript": [
       "window.__context = { glowscript_container: $(\"#glowscript\").removeAttr(\"id\")}"
      ],
      "text/plain": [
       "<IPython.core.display.Javascript object>"
      ]
     },
     "metadata": {},
     "output_type": "display_data"
    }
   ],
   "source": [
    "from vpython import *\n",
    "import random\n",
    "\n",
    "directionSet = [vector(1,0,0),vector(0,1,0),vector(0,-1,0)]\n",
    "obstacleSet = []\n",
    "\n",
    "for i in range(20):\n",
    "    temp = cylinder(pos=vector(int(random.uniform(-500, 500)),int(random.uniform(-400, 400)),0),axis=vector(0,0,30),radius= 20,color=color.red)\n",
    "    obstacleSet.append([temp.pos,temp.radius])\n",
    "    \n",
    "plane = box (pos=vector(0,0,0), length=1000, height=800, width=0.1, color=color.blue) \n",
    "\n",
    "start = sphere (pos=vector(-450,-370,0), radius=5, color=color.yellow)\n",
    "start.velocity = vector(200,0,0)\n",
    "goal = vector(490,390,0)\n",
    "dt = 0.005\n",
    "t = 0 \n",
    "while(start.pos != goal):\n",
    "    rate(50)\n",
    "    start.pos = minimum_cost(directionSet,obstacleSet,start.velocity,dt,start.pos,goal)\n",
    "    t += dt"
   ]
  },
  {
   "cell_type": "code",
   "execution_count": null,
   "metadata": {
    "collapsed": true
   },
   "outputs": [],
   "source": []
  }
 ],
 "metadata": {
  "kernelspec": {
   "display_name": "Python 3",
   "language": "python",
   "name": "python3"
  },
  "language_info": {
   "codemirror_mode": {
    "name": "ipython",
    "version": 3
   },
   "file_extension": ".py",
   "mimetype": "text/x-python",
   "name": "python",
   "nbconvert_exporter": "python",
   "pygments_lexer": "ipython3",
   "version": "3.6.0"
  }
 },
 "nbformat": 4,
 "nbformat_minor": 2
}
